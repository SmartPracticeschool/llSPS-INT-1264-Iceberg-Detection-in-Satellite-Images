{
 "cells": [
  {
   "cell_type": "markdown",
   "metadata": {},
   "source": [
    "# TESTING THE MODEL"
   ]
  },
  {
   "cell_type": "code",
   "execution_count": 24,
   "metadata": {},
   "outputs": [],
   "source": [
    "import os\n",
    "os.chdir('C:/Users/br104s/Desktop/Remote Internship 2020/Project/dataset')"
   ]
  },
  {
   "cell_type": "markdown",
   "metadata": {},
   "source": [
    "# loading the model"
   ]
  },
  {
   "cell_type": "code",
   "execution_count": 25,
   "metadata": {},
   "outputs": [],
   "source": [
    "from keras.models import load_model\n",
    "model = load_model('mymodel1.h5')"
   ]
  },
  {
   "cell_type": "code",
   "execution_count": 26,
   "metadata": {},
   "outputs": [],
   "source": [
    "from keras.models import load_model\n",
    "import numpy as np\n",
    "import cv2"
   ]
  },
  {
   "cell_type": "code",
   "execution_count": 27,
   "metadata": {},
   "outputs": [],
   "source": [
    "model = load_model('mymodel1.h5')\n",
    "#model.compile(loss='categorical_crossentropy',\n",
    "  #                   optimizer='adam',\n",
    "  #                    metrics=['accuracy'])\n",
    "\n",
    "from skimage.transform import resize\n",
    "\n",
    "def detect(frame):\n",
    "        img = resize(frame,(75,75))\n",
    "        img = np.expand_dims(img,axis=0)\n",
    "        if(np.max(img)>1):\n",
    "            img = img/255.0\n",
    "        prediction = model.predict(img)\n",
    "        print(prediction)\n",
    "        prediction = model.predict_classes(img)\n",
    "        print(prediction)\n",
    "    \n"
   ]
  },
  {
   "cell_type": "code",
   "execution_count": 28,
   "metadata": {},
   "outputs": [],
   "source": [
    "#0 indicates iceberg and 1 indicates ship"
   ]
  },
  {
   "cell_type": "code",
   "execution_count": 30,
   "metadata": {},
   "outputs": [
    {
     "name": "stdout",
     "output_type": "stream",
     "text": [
      "[[0.00660251]]\n",
      "[[0]]\n"
     ]
    }
   ],
   "source": [
    "frame=cv2.imread(r\"C:\\Users\\br104s\\Desktop\\Remote Internship 2020\\Project\\dataset\\test\\Iceberg\\f192.png\")\n",
    "data = detect(frame)"
   ]
  },
  {
   "cell_type": "code",
   "execution_count": 31,
   "metadata": {},
   "outputs": [
    {
     "name": "stdout",
     "output_type": "stream",
     "text": [
      "[[0.1967636]]\n",
      "[[0]]\n"
     ]
    }
   ],
   "source": [
    "frame=cv2.imread(r\"C:\\Users\\br104s\\Desktop\\Remote Internship 2020\\Project\\dataset\\test\\Iceberg\\f193.png\")\n",
    "data = detect(frame)"
   ]
  },
  {
   "cell_type": "code",
   "execution_count": 32,
   "metadata": {},
   "outputs": [
    {
     "name": "stdout",
     "output_type": "stream",
     "text": [
      "[[0.00178309]]\n",
      "[[0]]\n"
     ]
    }
   ],
   "source": [
    "frame=cv2.imread(r\"C:\\Users\\br104s\\Desktop\\Remote Internship 2020\\Project\\dataset\\test\\Iceberg\\f195.png\")\n",
    "data = detect(frame)"
   ]
  },
  {
   "cell_type": "code",
   "execution_count": 34,
   "metadata": {},
   "outputs": [
    {
     "name": "stdout",
     "output_type": "stream",
     "text": [
      "[[0.00351295]]\n",
      "[[0]]\n"
     ]
    }
   ],
   "source": [
    "frame=cv2.imread(\"C:/Users/br104s/Desktop/Remote Internship 2020/Project/dataset/test/Iceberg/f201.png\")\n",
    "data=detect(frame)"
   ]
  },
  {
   "cell_type": "code",
   "execution_count": 38,
   "metadata": {},
   "outputs": [
    {
     "name": "stdout",
     "output_type": "stream",
     "text": [
      "[[0.24701673]]\n",
      "[[0]]\n"
     ]
    }
   ],
   "source": [
    "frame=cv2.imread(\"C:/Users/br104s/Desktop/Remote Internship 2020/Project/dataset/test/Iceberg/f211.png\")\n",
    "data=detect(frame)"
   ]
  },
  {
   "cell_type": "code",
   "execution_count": null,
   "metadata": {},
   "outputs": [],
   "source": []
  },
  {
   "cell_type": "code",
   "execution_count": 43,
   "metadata": {},
   "outputs": [
    {
     "name": "stdout",
     "output_type": "stream",
     "text": [
      "[[0.60990566]]\n",
      "[[1]]\n"
     ]
    }
   ],
   "source": [
    "frame=cv2.imread(r\"C:\\Users\\br104s\\Desktop\\Remote Internship 2020\\Project\\dataset\\test\\Ship\\f187.png\")\n",
    "data = detect(frame)"
   ]
  },
  {
   "cell_type": "code",
   "execution_count": 45,
   "metadata": {},
   "outputs": [
    {
     "name": "stdout",
     "output_type": "stream",
     "text": [
      "[[0.880381]]\n",
      "[[1]]\n"
     ]
    }
   ],
   "source": [
    "frame=cv2.imread(r\"C:\\Users\\br104s\\Desktop\\Remote Internship 2020\\Project\\dataset\\test\\Ship\\f189.png\")\n",
    "data = detect(frame)"
   ]
  },
  {
   "cell_type": "code",
   "execution_count": 46,
   "metadata": {},
   "outputs": [
    {
     "name": "stdout",
     "output_type": "stream",
     "text": [
      "[[0.9999989]]\n",
      "[[1]]\n"
     ]
    }
   ],
   "source": [
    "frame=cv2.imread(r\"C:\\Users\\br104s\\Desktop\\Remote Internship 2020\\Project\\dataset\\test\\Ship\\f190.png\")\n",
    "data = detect(frame)"
   ]
  },
  {
   "cell_type": "code",
   "execution_count": 47,
   "metadata": {},
   "outputs": [
    {
     "name": "stdout",
     "output_type": "stream",
     "text": [
      "[[0.99973065]]\n",
      "[[1]]\n"
     ]
    }
   ],
   "source": [
    "frame=cv2.imread(r\"C:\\Users\\br104s\\Desktop\\Remote Internship 2020\\Project\\dataset\\test\\Ship\\f191.png\")\n",
    "data = detect(frame)"
   ]
  },
  {
   "cell_type": "code",
   "execution_count": 48,
   "metadata": {},
   "outputs": [
    {
     "name": "stdout",
     "output_type": "stream",
     "text": [
      "[[0.99994385]]\n",
      "[[1]]\n"
     ]
    }
   ],
   "source": [
    "frame=cv2.imread(r\"C:\\Users\\br104s\\Desktop\\Remote Internship 2020\\Project\\dataset\\test\\Ship\\f194.png\")\n",
    "data = detect(frame)"
   ]
  },
  {
   "cell_type": "markdown",
   "metadata": {},
   "source": [
    "# OBSERVATION"
   ]
  },
  {
   "cell_type": "code",
   "execution_count": null,
   "metadata": {},
   "outputs": [],
   "source": [
    "#Here most of the icebergs and ships are correctly classifed while very few are getting wrongly predicted "
   ]
  }
 ],
 "metadata": {
  "kernelspec": {
   "display_name": "Python 3",
   "language": "python",
   "name": "python3"
  },
  "language_info": {
   "codemirror_mode": {
    "name": "ipython",
    "version": 3
   },
   "file_extension": ".py",
   "mimetype": "text/x-python",
   "name": "python",
   "nbconvert_exporter": "python",
   "pygments_lexer": "ipython3",
   "version": "3.7.3"
  }
 },
 "nbformat": 4,
 "nbformat_minor": 2
}
